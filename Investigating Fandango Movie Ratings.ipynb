{
 "cells": [
  {
   "cell_type": "markdown",
   "metadata": {},
   "source": [
    "In 2015, a data journalist named Walt Hickey analyzed moving ratings data and found strong evidence to suggest that Fandango's rating system was biased and generally higher than actual ratings submitted. Since then, Fandango has reported the issue as a bug in the system and promised to address the fix. \n",
    "\n",
    "The goal of this project is to analyze the Fandango movie ratings data to investigate a more recent data set to confirm if the discrepancy still exists. \n",
    "\n",
    "The project will compare Fandango's ratings previous and after Hickey's analysis. "
   ]
  },
  {
   "cell_type": "markdown",
   "metadata": {},
   "source": [
    "import libraries"
   ]
  },
  {
   "cell_type": "code",
   "execution_count": 10,
   "metadata": {
    "collapsed": true
   },
   "outputs": [],
   "source": [
    "import pandas as pd\n",
    "import matplotlib.pyplot as plt\n",
    "import seaborn as sns\n",
    "import numpy as np\n",
    "%matplotlib inline"
   ]
  },
  {
   "cell_type": "markdown",
   "metadata": {},
   "source": [
    "read in data sets:\n",
    "-  fandango_score_comparison.csv is from Walt Hickey's previuos analysis\n",
    "-  movie_ratings_16_17.csv is a data set prepared by Dataquest"
   ]
  },
  {
   "cell_type": "code",
   "execution_count": 2,
   "metadata": {
    "collapsed": true
   },
   "outputs": [],
   "source": [
    "fandango_score_comparison=pd.read_csv('fandango_score_comparison.csv')\n",
    "movie_ratings_16_17=pd.read_csv('movie_ratings_16_17.csv')"
   ]
  },
  {
   "cell_type": "markdown",
   "metadata": {},
   "source": [
    "explore data sets: "
   ]
  },
  {
   "cell_type": "code",
   "execution_count": 8,
   "metadata": {
    "collapsed": false
   },
   "outputs": [
    {
     "name": "stdout",
     "output_type": "stream",
     "text": [
      "FILM\n",
      "RottenTomatoes\n",
      "RottenTomatoes_User\n",
      "Metacritic\n",
      "Metacritic_User\n",
      "IMDB\n",
      "Fandango_Stars\n",
      "Fandango_Ratingvalue\n",
      "RT_norm\n",
      "RT_user_norm\n",
      "Metacritic_norm\n",
      "Metacritic_user_nom\n",
      "IMDB_norm\n",
      "RT_norm_round\n",
      "RT_user_norm_round\n",
      "Metacritic_norm_round\n",
      "Metacritic_user_norm_round\n",
      "IMDB_norm_round\n",
      "Metacritic_user_vote_count\n",
      "IMDB_user_vote_count\n",
      "Fandango_votes\n",
      "Fandango_Difference\n",
      "movie\n",
      "year\n",
      "metascore\n",
      "imdb\n",
      "tmeter\n",
      "audience\n",
      "fandango\n",
      "n_metascore\n",
      "n_imdb\n",
      "n_tmeter\n",
      "n_audience\n",
      "nr_metascore\n",
      "nr_imdb\n",
      "nr_tmeter\n",
      "nr_audience\n"
     ]
    }
   ],
   "source": [
    "for each_column in fandango_score_comparison.columns:\n",
    "    print(each_column)\n",
    "for each_column in movie_ratings_16_17.columns:\n",
    "    print(each_column)"
   ]
  },
  {
   "cell_type": "code",
   "execution_count": 21,
   "metadata": {
    "collapsed": true
   },
   "outputs": [],
   "source": [
    "fandango_columns=[\n",
    "    'FILM',\n",
    "    'Fandango_Stars',\n",
    "    'Fandango_Ratingvalue',\n",
    "    'Fandango_votes', \n",
    "    'Fandango_Difference']\n",
    "ratings_columns=['movie', 'year', 'fandango']\n",
    "ratings_data_pre=fandango_score_comparison[fandango_columns].copy()\n",
    "ratings_data_post=movie_ratings_16_17[ratings_columns].copy()"
   ]
  },
  {
   "cell_type": "markdown",
   "metadata": {},
   "source": [
    "the population would be the entire universe of movies that fandango has ratings on\n",
    "\n",
    "however, the sample that has been selected includes only films that have at least 30 fan reviews in the pre-analysis data set and the sample from the post-analysis data set only include popular films\n",
    "\n",
    "there could be potential bias in the data because films were not randomly selected\n",
    "\n",
    "as such, the project definition will be modified to specify that only \"popular\" films will be analyzed"
   ]
  },
  {
   "cell_type": "markdown",
   "metadata": {},
   "source": [
    "check if the definition of \"popular\" is the same across the two data sets"
   ]
  },
  {
   "cell_type": "markdown",
   "metadata": {},
   "source": [
    "-  check if the pre-analysis data set contains only movies that has more than 30 fan votes"
   ]
  },
  {
   "cell_type": "code",
   "execution_count": 13,
   "metadata": {
    "collapsed": false
   },
   "outputs": [
    {
     "name": "stdout",
     "output_type": "stream",
     "text": [
      "0\n"
     ]
    }
   ],
   "source": [
    "print(sum(fandango_data['Fandango_votes']<30))"
   ]
  },
  {
   "cell_type": "markdown",
   "metadata": {},
   "source": [
    "-  since the post-analysis data set doesn't have data on number of fan votes, manually check if a random sample of films have more than 30 fan votes on Fandango's site"
   ]
  },
  {
   "cell_type": "code",
   "execution_count": 17,
   "metadata": {
    "collapsed": false
   },
   "outputs": [
    {
     "name": "stdout",
     "output_type": "stream",
     "text": [
      "                                       movie  year  fandango\n",
      "108                   Mechanic: Resurrection  2016       4.0\n",
      "206                                 Warcraft  2016       4.0\n",
      "106                                Max Steel  2016       3.5\n",
      "107                            Me Before You  2016       4.5\n",
      "51   Fantastic Beasts and Where to Find Them  2016       4.5\n",
      "33                                      Cell  2016       3.0\n",
      "59                                    Genius  2016       3.5\n",
      "152                                    Sully  2016       4.5\n",
      "4                    A Hologram for the King  2016       3.0\n",
      "31                Captain America: Civil War  2016       4.5\n"
     ]
    }
   ],
   "source": [
    "print(ratings_data_post.sample(10, random_state=1))"
   ]
  },
  {
   "cell_type": "markdown",
   "metadata": {},
   "source": [
    "### confirmed that majority of the above films had > 100 fan votes"
   ]
  },
  {
   "cell_type": "markdown",
   "metadata": {},
   "source": [
    "confirm the data set included in the pre-analysis data set is before the reporting"
   ]
  },
  {
   "cell_type": "code",
   "execution_count": 61,
   "metadata": {
    "collapsed": false
   },
   "outputs": [],
   "source": [
    "pattern=r\"\\((\\d*)\\)\"\n",
    "ratings_data_pre['Year Released']=ratings_data_pre['FILM'].str.extract(pattern, expand=False).astype(int)"
   ]
  },
  {
   "cell_type": "code",
   "execution_count": 62,
   "metadata": {
    "collapsed": false
   },
   "outputs": [
    {
     "name": "stdout",
     "output_type": "stream",
     "text": [
      "2015    129\n",
      "2014     17\n",
      "Name: Year Released, dtype: int64\n",
      "2016    191\n",
      "2017     23\n",
      "Name: year, dtype: int64\n"
     ]
    }
   ],
   "source": [
    "print(ratings_data_pre['Year Released'].value_counts(dropna=False))\n",
    "print(ratings_data_post['year'].value_counts(dropna=False))"
   ]
  },
  {
   "cell_type": "markdown",
   "metadata": {},
   "source": [
    "isolate the movies released in 2015 and 2016 in separate data sets"
   ]
  },
  {
   "cell_type": "code",
   "execution_count": 63,
   "metadata": {
    "collapsed": false
   },
   "outputs": [],
   "source": [
    "fandango_2015=ratings_data_pre[ratings_data_pre['Year Released']==2015]\n",
    "fandango_2016=ratings_data_post[ratings_data_post['year']==2016]"
   ]
  },
  {
   "cell_type": "markdown",
   "metadata": {},
   "source": [
    "identify if there is a difference in frequency of ratings that would suggest a change in rating methodology"
   ]
  },
  {
   "cell_type": "code",
   "execution_count": 68,
   "metadata": {
    "collapsed": false
   },
   "outputs": [
    {
     "name": "stdout",
     "output_type": "stream",
     "text": [
      "4.1    13\n",
      "3.9    12\n",
      "4.2    11\n",
      "4.3     9\n",
      "4.5     9\n",
      "3.6     8\n",
      "3.7     8\n",
      "4.4     7\n",
      "3.4     7\n",
      "4.0     7\n",
      "3.5     6\n",
      "3.2     4\n",
      "2.9     4\n",
      "3.3     4\n",
      "3.8     4\n",
      "3.0     4\n",
      "3.1     3\n",
      "4.8     3\n",
      "2.8     2\n",
      "4.6     2\n",
      "2.7     2\n",
      "Name: Fandango_Ratingvalue, dtype: int64\n",
      "4.5    49\n",
      "4.0    37\n",
      "3.5    23\n",
      "3.0    11\n",
      "5.0     9\n",
      "Name: Fandango_Stars, dtype: int64\n",
      "4.0    77\n",
      "4.5    47\n",
      "3.5    46\n",
      "3.0    14\n",
      "2.5     6\n",
      "5.0     1\n",
      "Name: fandango, dtype: int64\n"
     ]
    }
   ],
   "source": [
    "print(fandango_2015['Fandango_Ratingvalue'].value_counts(dropna=False))\n",
    "print(fandango_2015['Fandango_Stars'].value_counts(dropna=False))\n",
    "print(fandango_2016['fandango'].value_counts(dropna=False))"
   ]
  },
  {
   "cell_type": "code",
   "execution_count": 75,
   "metadata": {
    "collapsed": false
   },
   "outputs": [
    {
     "data": {
      "image/png": "[encoded data removed]",
      "text/plain": [
       "<matplotlib.figure.Figure at 0x7f78102e0470>"
      ]
     },
     "metadata": {},
     "output_type": "display_data"
    }
   ],
   "source": [
    "fandango_2015['Fandango_Stars'].plot.kde(label='2015', legend=True)\n",
    "fandango_2016['fandango'].plot.kde(label='2016', legend=True)\n",
    "plt.title(\"Fandango's ratings (2015 vs 2016)\")\n",
    "plt.xlabel('Ratings')\n",
    "plt.xlim(0,5)\n",
    "plt.xticks(np.arange(0,5.1,.5))\n",
    "plt.style.use('fivethirtyeight')\n",
    "plt.show()"
   ]
  },
  {
   "cell_type": "markdown",
   "metadata": {},
   "source": [
    "Analyze the two kernel density plots. Try to answer the following questions:\n",
    "\n",
    "-  What is the shape of each distribution? \n",
    "\n",
    "Approximately normal\n",
    "-  How do their shapes compare?\n",
    "\n",
    "Similar\n",
    "-  If their shapes are similar, is there anything that clearly differentiates them?\n",
    "\n",
    "2016 is less left skewed\n",
    "-  Can we see any evidence on the graph that suggests that there is indeed a change between Fandango's ratings for popular movies in 2015 and Fandango's ratings for popular movies in 2016?\n",
    "\n",
    "Yes - where 2015 ratings are stacked on very high ratings, 2016 ratings have a more even distribution\n",
    "-  Provided there's a difference, can we tell anything about the direction of the difference? In other words, were movies in 2016 rated lower or higher compared to 2015?\n",
    "\n",
    "2016 movies were rated lower"
   ]
  },
  {
   "cell_type": "markdown",
   "metadata": {},
   "source": [
    "compare frequency distribution tables"
   ]
  },
  {
   "cell_type": "code",
   "execution_count": 77,
   "metadata": {
    "collapsed": false
   },
   "outputs": [
    {
     "name": "stdout",
     "output_type": "stream",
     "text": [
      "2015\n",
      "3.0     8.527132\n",
      "3.5    17.829457\n",
      "4.0    28.682171\n",
      "4.5    37.984496\n",
      "5.0     6.976744\n",
      "Name: Fandango_Stars, dtype: float64\n",
      "2016\n",
      "2.5     3.141361\n",
      "3.0     7.329843\n",
      "3.5    24.083770\n",
      "4.0    40.314136\n",
      "4.5    24.607330\n",
      "5.0     0.523560\n",
      "Name: fandango, dtype: float64\n"
     ]
    }
   ],
   "source": [
    "print('2015')\n",
    "print(fandango_2015['Fandango_Stars'].value_counts(normalize = True).sort_index() * 100)\n",
    "print('2016')\n",
    "print(fandango_2016['fandango'].value_counts(normalize = True).sort_index() * 100)"
   ]
  },
  {
   "cell_type": "markdown",
   "metadata": {},
   "source": [
    "some observations: \n",
    "-  compared to 2015, less of the 2016 were very high (5 Star) ratings\n",
    "-  the lowest rating in 2015 was 3 and 2.5 in 2016\n",
    "-  generally the distribution shifted towards lower ratings in 2016 compared to 2015"
   ]
  },
  {
   "cell_type": "code",
   "execution_count": 83,
   "metadata": {
    "collapsed": false
   },
   "outputs": [
    {
     "name": "stdout",
     "output_type": "stream",
     "text": [
      "count    129.000000\n",
      "mean       4.085271\n",
      "std        0.538096\n",
      "min        3.000000\n",
      "25%        3.500000\n",
      "50%        4.000000\n",
      "75%        4.500000\n",
      "max        5.000000\n",
      "Name: Fandango_Stars, dtype: float64\n",
      "count    191.000000\n",
      "mean       3.887435\n",
      "std        0.509540\n",
      "min        2.500000\n",
      "25%        3.500000\n",
      "50%        4.000000\n",
      "75%        4.250000\n",
      "max        5.000000\n",
      "Name: fandango, dtype: float64\n"
     ]
    }
   ],
   "source": [
    "fandango_2015_summary=fandango_2015['Fandango_Stars'].describe()\n",
    "fandango_2016_summary=fandango_2016['fandango'].describe()"
   ]
  },
  {
   "cell_type": "code",
   "execution_count": 88,
   "metadata": {
    "collapsed": false
   },
   "outputs": [],
   "source": [
    "fandango_2015_mean=fandango_2015_summary.loc['mean']\n",
    "fandango_2016_mean=fandango_2016_summary.loc['mean']\n",
    "fandango_2015_median=fandango_2015['Fandango_Stars'].median()\n",
    "fandango_2016_median=fandango_2016['fandango'].median()\n",
    "fandango_2015_mode=fandango_2015['Fandango_Stars'].mode()[0]\n",
    "fandango_2016_mode=fandango_2016['fandango'].mode()[0]"
   ]
  },
  {
   "cell_type": "markdown",
   "metadata": {},
   "source": [
    "create a pandas series (table) for summary to process easier"
   ]
  },
  {
   "cell_type": "code",
   "execution_count": 89,
   "metadata": {
    "collapsed": false
   },
   "outputs": [
    {
     "name": "stdout",
     "output_type": "stream",
     "text": [
      "            2015      2016\n",
      "mean    4.085271  3.887435\n",
      "median  4.000000  4.000000\n",
      "mode    4.500000  4.000000\n"
     ]
    }
   ],
   "source": [
    "summary_table = pd.DataFrame()\n",
    "summary_table['2015'] = [fandango_2015_mean, fandango_2015_median, fandango_2015_mode]\n",
    "summary_table['2016'] = [fandango_2016_mean, fandango_2016_median, fandango_2016_mode]\n",
    "summary_table.index = ['mean', 'median', 'mode']\n",
    "print(summary_table)"
   ]
  },
  {
   "cell_type": "code",
   "execution_count": 101,
   "metadata": {
    "collapsed": false
   },
   "outputs": [
    {
     "data": {
      "image/png": "[encoded data removed]",
      "text/plain": [
       "<matplotlib.figure.Figure at 0x7f7810276780>"
      ]
     },
     "metadata": {},
     "output_type": "display_data"
    }
   ],
   "source": [
    "summary_table['2015'].plot.bar(color='blue', align = 'center', label = '2015', width=0.25, rot=0)\n",
    "summary_table['2016'].plot.bar(color='red', align = 'edge', label = '2016', width=0.25, rot=0)\n",
    "plt.title('Comparing summary statistics: 2015 vs 2016')\n",
    "plt.ylim(0,5.5)\n",
    "plt.yticks(np.arange(0,5.5,.5))\n",
    "plt.ylabel('Stars')\n",
    "plt.legend(loc = 'upper center')\n",
    "plt.show()"
   ]
  },
  {
   "cell_type": "markdown",
   "metadata": {},
   "source": [
    "analysis shows a slight difference between the ratings in 2015 and 2016"
   ]
  }
 ],
 "metadata": {
  "kernelspec": {
   "display_name": "Python 3",
   "language": "python",
   "name": "python3"
  },
  "language_info": {
   "codemirror_mode": {
    "name": "ipython",
    "version": 3
   },
   "file_extension": ".py",
   "mimetype": "text/x-python",
   "name": "python",
   "nbconvert_exporter": "python",
   "pygments_lexer": "ipython3",
   "version": "3.4.3"
  }
 },
 "nbformat": 4,
 "nbformat_minor": 2
}
